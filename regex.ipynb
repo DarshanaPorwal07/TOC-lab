{
 "cells": [
  {
   "cell_type": "markdown",
   "metadata": {},
   "source": [
    "regex"
   ]
  },
  {
   "cell_type": "code",
   "execution_count": 2,
   "metadata": {},
   "outputs": [
    {
     "name": "stdout",
     "output_type": "stream",
     "text": [
      "<re.Match object; span=(0, 3), match='Toc'>\n"
     ]
    }
   ],
   "source": [
    "import re\n",
    "x=\"Toc, is a good subject\"\n",
    "r1=re.search(r\"^\\w+\",x)\n",
    "print r1\n",
    "\n"
   ]
  },
  {
   "cell_type": "code",
   "execution_count": 13,
   "metadata": {},
   "outputs": [
    {
     "name": "stdout",
     "output_type": "stream",
     "text": [
      "True\n"
     ]
    }
   ],
   "source": [
    "import re\n",
    "my_string = \"abcdababa\"\n",
    "result = len(re.findall(\"a\", my_string))%2 == 0\n",
    "print (result)"
   ]
  },
  {
   "cell_type": "markdown",
   "metadata": {},
   "source": [
    "language accepting one a's"
   ]
  },
  {
   "cell_type": "code",
   "execution_count": 14,
   "metadata": {},
   "outputs": [
    {
     "name": "stdout",
     "output_type": "stream",
     "text": [
      "<re.Match object; span=(0, 2), match='ab'>\n"
     ]
    }
   ],
   "source": [
    "import re\n",
    "my_string=\"abcabc\"\n",
    "result=re.search(\"[a-b]*a[a-b]*\",my_string)\n",
    "print (result)\n"
   ]
  },
  {
   "cell_type": "markdown",
   "metadata": {},
   "source": [
    "string such that third character from the right is always a alphabet a,b"
   ]
  },
  {
   "cell_type": "code",
   "execution_count": 2,
   "metadata": {},
   "outputs": [
    {
     "name": "stdout",
     "output_type": "stream",
     "text": [
      "<re.Match object; span=(3, 9), match='aaaaab'>\n"
     ]
    }
   ],
   "source": [
    "import re\n",
    "my_string=\"abcaaaaab\"\n",
    "result=re.search(\"[a-b]*a[a-b][a-b]\",my_string)\n",
    "print (result)\n"
   ]
  },
  {
   "cell_type": "markdown",
   "metadata": {},
   "source": [
    "atmost one no of a"
   ]
  },
  {
   "cell_type": "code",
   "execution_count": 7,
   "metadata": {},
   "outputs": [
    {
     "name": "stdout",
     "output_type": "stream",
     "text": [
      "accept atmost one no of a's\n"
     ]
    }
   ],
   "source": [
    "import re\n",
    "my_string=\"abcccbc\"\n",
    "result= len(re.findall(\"a\",my_string))\n",
    "            \n",
    "if(result%2==1):\n",
    "            print(\"accept atmost one no of a's\")\n",
    "else:\n",
    "            print(\"not present\")\n",
    "                      "
   ]
  },
  {
   "cell_type": "markdown",
   "metadata": {},
   "source": [
    "accept string aab"
   ]
  },
  {
   "cell_type": "code",
   "execution_count": 10,
   "metadata": {},
   "outputs": [
    {
     "name": "stdout",
     "output_type": "stream",
     "text": [
      "['aabb']\n"
     ]
    }
   ],
   "source": [
    "import re\n",
    "my_string=\"abcaabbc\"\n",
    "result=re.findall(\"[a-b]*aab[a-b]*\",my_string)\n",
    "print (result)\n"
   ]
  },
  {
   "cell_type": "code",
   "execution_count": 14,
   "metadata": {},
   "outputs": [
    {
     "name": "stdout",
     "output_type": "stream",
     "text": [
      "2\n"
     ]
    }
   ],
   "source": [
    "import re\n",
    "test_str=\"abcabccc\"\n",
    "count = 0\n",
    "  \n",
    "for i in test_str: \n",
    "    if i == 'a': \n",
    "        count = count + 1\n",
    "print (count)"
   ]
  },
  {
   "cell_type": "markdown",
   "metadata": {},
   "source": [
    "even no of a's and odd no of b's"
   ]
  },
  {
   "cell_type": "code",
   "execution_count": 20,
   "metadata": {},
   "outputs": [
    {
     "name": "stdout",
     "output_type": "stream",
     "text": [
      "even\n"
     ]
    }
   ],
   "source": [
    "\n",
    "import re\n",
    "test_str=\"aabbbaaaa\"\n",
    "x=len(re.findall(\"a\",test_str))\n",
    "y=len(re.findall(\"b\",test_str))\n",
    "if(x%2==0 and y%2!=0):\n",
    "    print(\"even\")\n",
    "else:\n",
    "    print(\"odd\")\n"
   ]
  },
  {
   "cell_type": "code",
   "execution_count": null,
   "metadata": {},
   "outputs": [],
   "source": []
  },
  {
   "cell_type": "code",
   "execution_count": null,
   "metadata": {},
   "outputs": [],
   "source": []
  }
 ],
 "metadata": {
  "kernelspec": {
   "display_name": "Python 3",
   "language": "python",
   "name": "python3"
  },
  "language_info": {
   "codemirror_mode": {
    "name": "ipython",
    "version": 3
   },
   "file_extension": ".py",
   "mimetype": "text/x-python",
   "name": "python",
   "nbconvert_exporter": "python",
   "pygments_lexer": "ipython3",
   "version": "3.7.3"
  }
 },
 "nbformat": 4,
 "nbformat_minor": 4
}
