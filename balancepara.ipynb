{
 "cells": [
  {
   "cell_type": "markdown",
   "metadata": {},
   "source": [
    "#Program for balance parenthesis(different)\n",
    "\n",
    "class stack:\n",
    "    def __init__(self):\n",
    "        self.items = []\n",
    " \n",
    "    def isempty(self):\n",
    "        return self.items == []\n",
    " \n",
    "    def push(self, value):\n",
    "        self.items.append(value)\n",
    " \n",
    "    def pop(self):\n",
    "        return self.items.pop()\n",
    "s = stack()\n",
    "op_paren=['(','{','[']\n",
    "cls_paren=[')','}',']']\n",
    "def check_balance(str):\n",
    "    if len(str)%2!=0:\n",
    "        return \"unbalanced\"\n",
    "    for i in str:\n",
    "        if i in op_paren:\n",
    "            s.push(i)\n",
    "        elif i in cls_paren:\n",
    "            pos=cls_paren.index(i)\n",
    "            if s.isempty()==False and op_paren[pos] == s.items[-1]:\n",
    "                s.pop()\n",
    "            else:\n",
    "                return \"unbalanced\"\n",
    "    return \"balanced\""
   ]
  },
  {
   "cell_type": "code",
   "execution_count": 1,
   "metadata": {},
   "outputs": [
    {
     "ename": "NameError",
     "evalue": "name 'check_balance' is not defined",
     "output_type": "error",
     "traceback": [
      "\u001b[0;31m---------------------------------------------------------------------------\u001b[0m",
      "\u001b[0;31mNameError\u001b[0m                                 Traceback (most recent call last)",
      "\u001b[0;32m<ipython-input-1-5ebaeb850eee>\u001b[0m in \u001b[0;36m<module>\u001b[0;34m\u001b[0m\n\u001b[0;32m----> 1\u001b[0;31m \u001b[0mprint\u001b[0m\u001b[0;34m(\u001b[0m\u001b[0mcheck_balance\u001b[0m\u001b[0;34m(\u001b[0m\u001b[0;34m\"{[(})}\"\u001b[0m\u001b[0;34m)\u001b[0m\u001b[0;34m)\u001b[0m\u001b[0;34m\u001b[0m\u001b[0;34m\u001b[0m\u001b[0m\n\u001b[0m",
      "\u001b[0;31mNameError\u001b[0m: name 'check_balance' is not defined"
     ]
    }
   ],
   "source": [
    "print(check_balance(\"{[(})}\"))"
   ]
  },
  {
   "cell_type": "code",
   "execution_count": null,
   "metadata": {},
   "outputs": [],
   "source": []
  }
 ],
 "metadata": {
  "kernelspec": {
   "display_name": "Python 3",
   "language": "python",
   "name": "python3"
  },
  "language_info": {
   "codemirror_mode": {
    "name": "ipython",
    "version": 3
   },
   "file_extension": ".py",
   "mimetype": "text/x-python",
   "name": "python",
   "nbconvert_exporter": "python",
   "pygments_lexer": "ipython3",
   "version": "3.7.3"
  }
 },
 "nbformat": 4,
 "nbformat_minor": 4
}
